{
 "cells": [
  {
   "cell_type": "code",
   "execution_count": 1,
   "id": "a49b0543-191f-4c8e-807e-f34e1e3d254a",
   "metadata": {},
   "outputs": [
    {
     "ename": "SyntaxError",
     "evalue": "invalid syntax (3358848567.py, line 1)",
     "output_type": "error",
     "traceback": [
      "\u001b[0;36m  Cell \u001b[0;32mIn[1], line 1\u001b[0;36m\u001b[0m\n\u001b[0;31m    1+!\u001b[0m\n\u001b[0m      ^\u001b[0m\n\u001b[0;31mSyntaxError\u001b[0m\u001b[0;31m:\u001b[0m invalid syntax\n"
     ]
    }
   ],
   "source": [
    "1+!"
   ]
  },
  {
   "cell_type": "code",
   "execution_count": 2,
   "id": "3205655d-2149-4cd4-8cd2-bcbde1928544",
   "metadata": {},
   "outputs": [
    {
     "data": {
      "text/plain": [
       "2"
      ]
     },
     "execution_count": 2,
     "metadata": {},
     "output_type": "execute_result"
    }
   ],
   "source": [
    "1+1"
   ]
  },
  {
   "cell_type": "code",
   "execution_count": 3,
   "id": "d64be98d-97db-493d-9690-1439f0307d00",
   "metadata": {},
   "outputs": [
    {
     "name": "stdout",
     "output_type": "stream",
     "text": [
      "\u001b[H\u001b[2J"
     ]
    }
   ],
   "source": [
    "clear"
   ]
  },
  {
   "cell_type": "code",
   "execution_count": 4,
   "id": "d643cb27-96d4-4c2c-9882-0cb216de0d31",
   "metadata": {},
   "outputs": [],
   "source": [
    "a=1"
   ]
  },
  {
   "cell_type": "code",
   "execution_count": 5,
   "id": "a1c0cf23-71fd-4cdd-8235-79fcb6c22989",
   "metadata": {},
   "outputs": [
    {
     "data": {
      "text/plain": [
       "1"
      ]
     },
     "execution_count": 5,
     "metadata": {},
     "output_type": "execute_result"
    }
   ],
   "source": [
    "a"
   ]
  },
  {
   "cell_type": "code",
   "execution_count": 6,
   "id": "4f0dc760-1644-4dc4-b467-f124ac8dca3d",
   "metadata": {},
   "outputs": [
    {
     "name": "stdout",
     "output_type": "stream",
     "text": [
      "\u001b[H\u001b[2J"
     ]
    }
   ],
   "source": [
    "clear"
   ]
  },
  {
   "cell_type": "code",
   "execution_count": 7,
   "id": "c2b6ed51-f885-4b91-b00c-f0f1ca772a0f",
   "metadata": {},
   "outputs": [
    {
     "data": {
      "text/plain": [
       "1"
      ]
     },
     "execution_count": 7,
     "metadata": {},
     "output_type": "execute_result"
    }
   ],
   "source": [
    "a"
   ]
  },
  {
   "cell_type": "code",
   "execution_count": 8,
   "id": "9c430d86-b3d3-4078-bb05-6ddafb6b641e",
   "metadata": {},
   "outputs": [],
   "source": [
    "b=2"
   ]
  },
  {
   "cell_type": "code",
   "execution_count": 9,
   "id": "060b63a0-8184-4a35-acb6-b5b9fb65032a",
   "metadata": {},
   "outputs": [],
   "source": [
    "b=a"
   ]
  },
  {
   "cell_type": "code",
   "execution_count": 10,
   "id": "18fbfc0b-2b97-4211-b31e-1c674aaeda29",
   "metadata": {},
   "outputs": [
    {
     "data": {
      "text/plain": [
       "2"
      ]
     },
     "execution_count": 10,
     "metadata": {},
     "output_type": "execute_result"
    }
   ],
   "source": [
    "b+a"
   ]
  },
  {
   "cell_type": "code",
   "execution_count": 11,
   "id": "97704971-f358-49fb-8dda-9ea3740da8f1",
   "metadata": {},
   "outputs": [
    {
     "data": {
      "text/plain": [
       "2"
      ]
     },
     "execution_count": 11,
     "metadata": {},
     "output_type": "execute_result"
    }
   ],
   "source": [
    "1+1"
   ]
  },
  {
   "cell_type": "code",
   "execution_count": 12,
   "id": "27538fcd-1f9a-450d-bd35-782d4715516b",
   "metadata": {},
   "outputs": [],
   "source": [
    "d={}"
   ]
  },
  {
   "cell_type": "code",
   "execution_count": 13,
   "id": "d9a73412-9edb-46c9-859d-e594e8f2ceb7",
   "metadata": {},
   "outputs": [
    {
     "data": {
      "text/plain": [
       "dict"
      ]
     },
     "execution_count": 13,
     "metadata": {},
     "output_type": "execute_result"
    }
   ],
   "source": [
    "type(d)"
   ]
  },
  {
   "cell_type": "code",
   "execution_count": 14,
   "id": "3044c987-051e-4caa-bcd2-748b523446e6",
   "metadata": {},
   "outputs": [],
   "source": [
    "d1={'key':\"sudh\"}"
   ]
  },
  {
   "cell_type": "code",
   "execution_count": 15,
   "id": "1a966259-8513-484f-a776-499ddfd139d2",
   "metadata": {},
   "outputs": [
    {
     "data": {
      "text/plain": [
       "{'key': 'sudh'}"
      ]
     },
     "execution_count": 15,
     "metadata": {},
     "output_type": "execute_result"
    }
   ],
   "source": [
    "d1"
   ]
  },
  {
   "cell_type": "code",
   "execution_count": 16,
   "id": "117708ea-7fbd-4978-ae3a-6e5ef0d16990",
   "metadata": {},
   "outputs": [],
   "source": [
    "d2={'name':\"pks\",'email':\"abc@gmail.com\",'number':111111}"
   ]
  },
  {
   "cell_type": "code",
   "execution_count": 17,
   "id": "7ec300b3-ad61-4d32-b664-e6a7182c31e3",
   "metadata": {},
   "outputs": [
    {
     "data": {
      "text/plain": [
       "{'name': 'pks', 'email': 'abc@gmail.com', 'number': 111111}"
      ]
     },
     "execution_count": 17,
     "metadata": {},
     "output_type": "execute_result"
    }
   ],
   "source": [
    "d2"
   ]
  },
  {
   "cell_type": "code",
   "execution_count": 21,
   "id": "22804393-0359-4a53-8c97-303e14f16782",
   "metadata": {},
   "outputs": [],
   "source": [
    "d3={123:\"raka\",'_wer':'rakaka',True:1122}"
   ]
  },
  {
   "cell_type": "code",
   "execution_count": 22,
   "id": "d5963cb6-868f-4fe1-80da-009b38e1af48",
   "metadata": {},
   "outputs": [
    {
     "data": {
      "text/plain": [
       "{123: 'raka', '_wer': 'rakaka', True: 1122}"
      ]
     },
     "execution_count": 22,
     "metadata": {},
     "output_type": "execute_result"
    }
   ],
   "source": [
    "d3"
   ]
  },
  {
   "cell_type": "code",
   "execution_count": 24,
   "id": "fd1337ad-64fe-4f64-9819-6f5924c3f557",
   "metadata": {},
   "outputs": [
    {
     "data": {
      "text/plain": [
       "'raka'"
      ]
     },
     "execution_count": 24,
     "metadata": {},
     "output_type": "execute_result"
    }
   ],
   "source": [
    "d3[123]"
   ]
  },
  {
   "cell_type": "code",
   "execution_count": 25,
   "id": "82c43119-78cd-446c-9573-d2473db747d2",
   "metadata": {},
   "outputs": [
    {
     "data": {
      "text/plain": [
       "1122"
      ]
     },
     "execution_count": 25,
     "metadata": {},
     "output_type": "execute_result"
    }
   ],
   "source": [
    "d3[1]"
   ]
  },
  {
   "cell_type": "code",
   "execution_count": 26,
   "id": "ba48f225-bba5-4ea2-a3c3-3061ff8419f2",
   "metadata": {},
   "outputs": [
    {
     "data": {
      "text/plain": [
       "1122"
      ]
     },
     "execution_count": 26,
     "metadata": {},
     "output_type": "execute_result"
    }
   ],
   "source": [
    "d3[True]"
   ]
  },
  {
   "cell_type": "code",
   "execution_count": 27,
   "id": "5a195826-f6dd-4aaf-a960-5d368341e2a0",
   "metadata": {},
   "outputs": [
    {
     "ename": "KeyError",
     "evalue": "0",
     "output_type": "error",
     "traceback": [
      "\u001b[0;31m---------------------------------------------------------------------------\u001b[0m",
      "\u001b[0;31mKeyError\u001b[0m                                  Traceback (most recent call last)",
      "Cell \u001b[0;32mIn[27], line 1\u001b[0m\n\u001b[0;32m----> 1\u001b[0m \u001b[43md3\u001b[49m\u001b[43m[\u001b[49m\u001b[38;5;241;43m0\u001b[39;49m\u001b[43m]\u001b[49m\n",
      "\u001b[0;31mKeyError\u001b[0m: 0"
     ]
    }
   ],
   "source": [
    "d3[0]"
   ]
  },
  {
   "cell_type": "code",
   "execution_count": 28,
   "id": "d6efd315-c9c0-480d-9b4e-8b87aa8c1972",
   "metadata": {},
   "outputs": [
    {
     "data": {
      "text/plain": [
       "'rakaka'"
      ]
     },
     "execution_count": 28,
     "metadata": {},
     "output_type": "execute_result"
    }
   ],
   "source": [
    "d3['_wer']"
   ]
  },
  {
   "cell_type": "code",
   "execution_count": 31,
   "id": "217ff229-8082-4656-bb0e-c4fb3cacef33",
   "metadata": {},
   "outputs": [],
   "source": [
    "d4={'name':\"sudh\",\"maiil_id\":\"ss@gmail.com\",\"name\":\"raka\"}"
   ]
  },
  {
   "cell_type": "markdown",
   "id": "b701af9e-eb02-4df4-910e-abd49e767599",
   "metadata": {},
   "source": [
    "#### "
   ]
  },
  {
   "cell_type": "code",
   "execution_count": 32,
   "id": "b8b0e54b-d472-4f06-881f-64301b9e69b3",
   "metadata": {},
   "outputs": [
    {
     "data": {
      "text/plain": [
       "{'name': 'raka', 'maiil_id': 'ss@gmail.com'}"
      ]
     },
     "execution_count": 32,
     "metadata": {},
     "output_type": "execute_result"
    }
   ],
   "source": [
    "d4"
   ]
  },
  {
   "cell_type": "code",
   "execution_count": 33,
   "id": "e632da0b-d8da-4ba1-b4c3-8e06c00882bf",
   "metadata": {},
   "outputs": [
    {
     "data": {
      "text/plain": [
       "'raka'"
      ]
     },
     "execution_count": 33,
     "metadata": {},
     "output_type": "execute_result"
    }
   ],
   "source": [
    "d4[\"name\"]"
   ]
  },
  {
   "cell_type": "code",
   "execution_count": 34,
   "id": "6016569a-2e51-4bc0-9963-3669720316f4",
   "metadata": {},
   "outputs": [
    {
     "data": {
      "text/plain": [
       "'raka'"
      ]
     },
     "execution_count": 34,
     "metadata": {},
     "output_type": "execute_result"
    }
   ],
   "source": [
    "d4['name']"
   ]
  },
  {
   "cell_type": "code",
   "execution_count": 36,
   "id": "a2763e2f-8142-4292-b637-6f0906ca89f7",
   "metadata": {},
   "outputs": [],
   "source": [
    "d5={\"comapny\":\"pwskills\",\"courses\":[\"web dev\",\"data science\",\"java\"]}"
   ]
  },
  {
   "cell_type": "code",
   "execution_count": null,
   "id": "e5500845-b1f6-4be6-8773-e882c567b1c4",
   "metadata": {},
   "outputs": [],
   "source": []
  },
  {
   "cell_type": "code",
   "execution_count": 37,
   "id": "d870825a-eb74-4cc5-a5d3-e1be71fc32ab",
   "metadata": {},
   "outputs": [
    {
     "data": {
      "text/plain": [
       "{'comapny': 'pwskills', 'courses': ['web dev', 'data science', 'java']}"
      ]
     },
     "execution_count": 37,
     "metadata": {},
     "output_type": "execute_result"
    }
   ],
   "source": [
    "d5"
   ]
  },
  {
   "cell_type": "code",
   "execution_count": 38,
   "id": "9d397f7d-414f-49c4-a8ba-a7adb0e6bb74",
   "metadata": {},
   "outputs": [
    {
     "data": {
      "text/plain": [
       "['web dev', 'data science', 'java']"
      ]
     },
     "execution_count": 38,
     "metadata": {},
     "output_type": "execute_result"
    }
   ],
   "source": [
    "d5['courses']"
   ]
  },
  {
   "cell_type": "code",
   "execution_count": 39,
   "id": "eb96a363-938c-4f4a-ba30-cd4087db0dd7",
   "metadata": {},
   "outputs": [
    {
     "data": {
      "text/plain": [
       "'java'"
      ]
     },
     "execution_count": 39,
     "metadata": {},
     "output_type": "execute_result"
    }
   ],
   "source": [
    "d5['courses'][2]"
   ]
  },
  {
   "cell_type": "code",
   "execution_count": 42,
   "id": "de3d34ba-c1d7-42c3-b074-1c25252ea81f",
   "metadata": {},
   "outputs": [],
   "source": [
    "d6={\"number\":[1,2,11,22,33,44],\"assignment\":(1,2,3,4,5,6),'launch_date':{12,13,14,15},\"class_time\":{'web_dev':8,'data_science':8}}"
   ]
  },
  {
   "cell_type": "code",
   "execution_count": 43,
   "id": "20358675-cb9b-4a35-aa5b-d5b90e194286",
   "metadata": {},
   "outputs": [
    {
     "data": {
      "text/plain": [
       "{'number': [1, 2, 11, 22, 33, 44],\n",
       " 'assignment': (1, 2, 3, 4, 5, 6),\n",
       " 'launch_date': {12, 13, 14, 15},\n",
       " 'class_time': {'web_dev': 8, 'data_science': 8}}"
      ]
     },
     "execution_count": 43,
     "metadata": {},
     "output_type": "execute_result"
    }
   ],
   "source": [
    "d6"
   ]
  },
  {
   "cell_type": "code",
   "execution_count": 46,
   "id": "2aea67a3-bf40-4812-8bf4-507825f0e095",
   "metadata": {},
   "outputs": [
    {
     "data": {
      "text/plain": [
       "[44, 33, 22, 11, 2, 1]"
      ]
     },
     "execution_count": 46,
     "metadata": {},
     "output_type": "execute_result"
    }
   ],
   "source": [
    "d6['number'][::-1]"
   ]
  },
  {
   "cell_type": "code",
   "execution_count": 45,
   "id": "ce57ec25-c2c5-4d1d-932b-d057372044a2",
   "metadata": {},
   "outputs": [
    {
     "data": {
      "text/plain": [
       "(1, 2, 3, 4, 5, 6)"
      ]
     },
     "execution_count": 45,
     "metadata": {},
     "output_type": "execute_result"
    }
   ],
   "source": [
    "d6['assignment']"
   ]
  },
  {
   "cell_type": "code",
   "execution_count": 47,
   "id": "c45a747b-00b5-4f2d-8ee3-06b4298ce20e",
   "metadata": {},
   "outputs": [
    {
     "data": {
      "text/plain": [
       "8"
      ]
     },
     "execution_count": 47,
     "metadata": {},
     "output_type": "execute_result"
    }
   ],
   "source": [
    "d6['class_time']['data_science']"
   ]
  },
  {
   "cell_type": "code",
   "execution_count": 48,
   "id": "cecc2b5a-9375-4ce7-b175-b5bc00213af5",
   "metadata": {},
   "outputs": [],
   "source": [
    "d6['mentor']=[\"sudh\",\"krish\",\"rakam\",\"ramama\"]"
   ]
  },
  {
   "cell_type": "code",
   "execution_count": 49,
   "id": "33682d65-d7a5-4bbb-8cff-5cd02a73fe88",
   "metadata": {},
   "outputs": [
    {
     "data": {
      "text/plain": [
       "{'number': [1, 2, 11, 22, 33, 44],\n",
       " 'assignment': (1, 2, 3, 4, 5, 6),\n",
       " 'launch_date': {12, 13, 14, 15},\n",
       " 'class_time': {'web_dev': 8, 'data_science': 8},\n",
       " 'mentor': ['sudh', 'krish', 'rakam', 'ramama']}"
      ]
     },
     "execution_count": 49,
     "metadata": {},
     "output_type": "execute_result"
    }
   ],
   "source": [
    "d6"
   ]
  },
  {
   "cell_type": "code",
   "execution_count": 50,
   "id": "f0d95417-a459-47ab-932d-c422dfdb866c",
   "metadata": {},
   "outputs": [],
   "source": [
    "del d6['number']"
   ]
  },
  {
   "cell_type": "code",
   "execution_count": 51,
   "id": "90f3a0ae-9f14-4d0d-abe5-6d474782c73c",
   "metadata": {},
   "outputs": [
    {
     "data": {
      "text/plain": [
       "{'assignment': (1, 2, 3, 4, 5, 6),\n",
       " 'launch_date': {12, 13, 14, 15},\n",
       " 'class_time': {'web_dev': 8, 'data_science': 8},\n",
       " 'mentor': ['sudh', 'krish', 'rakam', 'ramama']}"
      ]
     },
     "execution_count": 51,
     "metadata": {},
     "output_type": "execute_result"
    }
   ],
   "source": [
    "d6"
   ]
  },
  {
   "cell_type": "code",
   "execution_count": 52,
   "id": "e7005173-09b9-465e-9796-d09dd7f1ccb9",
   "metadata": {},
   "outputs": [
    {
     "data": {
      "text/plain": [
       "dict_keys(['assignment', 'launch_date', 'class_time', 'mentor'])"
      ]
     },
     "execution_count": 52,
     "metadata": {},
     "output_type": "execute_result"
    }
   ],
   "source": [
    "d6.keys()"
   ]
  },
  {
   "cell_type": "code",
   "execution_count": 53,
   "id": "e92497bb-d37c-4ca6-a0ac-5dba10c210a2",
   "metadata": {},
   "outputs": [
    {
     "data": {
      "text/plain": [
       "['assignment', 'launch_date', 'class_time', 'mentor']"
      ]
     },
     "execution_count": 53,
     "metadata": {},
     "output_type": "execute_result"
    }
   ],
   "source": [
    "list(d6.keys())"
   ]
  },
  {
   "cell_type": "code",
   "execution_count": 54,
   "id": "d608e287-09c4-4ff8-8415-182ff28f3b13",
   "metadata": {},
   "outputs": [
    {
     "data": {
      "text/plain": [
       "dict_values([(1, 2, 3, 4, 5, 6), {12, 13, 14, 15}, {'web_dev': 8, 'data_science': 8}, ['sudh', 'krish', 'rakam', 'ramama']])"
      ]
     },
     "execution_count": 54,
     "metadata": {},
     "output_type": "execute_result"
    }
   ],
   "source": [
    "d6.values()"
   ]
  },
  {
   "cell_type": "code",
   "execution_count": 55,
   "id": "1e3ae92c-d7fd-44e2-8217-bde4e7f71ad8",
   "metadata": {},
   "outputs": [
    {
     "data": {
      "text/plain": [
       "[(1, 2, 3, 4, 5, 6),\n",
       " {12, 13, 14, 15},\n",
       " {'web_dev': 8, 'data_science': 8},\n",
       " ['sudh', 'krish', 'rakam', 'ramama']]"
      ]
     },
     "execution_count": 55,
     "metadata": {},
     "output_type": "execute_result"
    }
   ],
   "source": [
    "list(d6.values())"
   ]
  },
  {
   "cell_type": "code",
   "execution_count": 56,
   "id": "40cb311d-06c3-4bfe-bcc8-161efd78444d",
   "metadata": {},
   "outputs": [
    {
     "data": {
      "text/plain": [
       "dict_items([('assignment', (1, 2, 3, 4, 5, 6)), ('launch_date', {12, 13, 14, 15}), ('class_time', {'web_dev': 8, 'data_science': 8}), ('mentor', ['sudh', 'krish', 'rakam', 'ramama'])])"
      ]
     },
     "execution_count": 56,
     "metadata": {},
     "output_type": "execute_result"
    }
   ],
   "source": [
    "d6.items()"
   ]
  },
  {
   "cell_type": "code",
   "execution_count": 57,
   "id": "404b3bf3-81bb-4021-963a-de342bcc7f36",
   "metadata": {},
   "outputs": [
    {
     "data": {
      "text/plain": [
       "[('assignment', (1, 2, 3, 4, 5, 6)),\n",
       " ('launch_date', {12, 13, 14, 15}),\n",
       " ('class_time', {'web_dev': 8, 'data_science': 8}),\n",
       " ('mentor', ['sudh', 'krish', 'rakam', 'ramama'])]"
      ]
     },
     "execution_count": 57,
     "metadata": {},
     "output_type": "execute_result"
    }
   ],
   "source": [
    "list(d6.items())"
   ]
  },
  {
   "cell_type": "code",
   "execution_count": 58,
   "id": "ed4def1c-4dcf-489e-9595-e6456e66c131",
   "metadata": {},
   "outputs": [
    {
     "data": {
      "text/plain": [
       "(1, 2, 3, 4, 5, 6)"
      ]
     },
     "execution_count": 58,
     "metadata": {},
     "output_type": "execute_result"
    }
   ],
   "source": [
    "d6.pop('assignment')"
   ]
  },
  {
   "cell_type": "code",
   "execution_count": 59,
   "id": "5b1ed359-a949-4240-a949-f26f265d442a",
   "metadata": {},
   "outputs": [
    {
     "data": {
      "text/plain": [
       "{'launch_date': {12, 13, 14, 15},\n",
       " 'class_time': {'web_dev': 8, 'data_science': 8},\n",
       " 'mentor': ['sudh', 'krish', 'rakam', 'ramama']}"
      ]
     },
     "execution_count": 59,
     "metadata": {},
     "output_type": "execute_result"
    }
   ],
   "source": [
    "d6"
   ]
  },
  {
   "cell_type": "code",
   "execution_count": 60,
   "id": "f1ed87dc-635d-47cf-8506-61868685fd0e",
   "metadata": {},
   "outputs": [
    {
     "ename": "TypeError",
     "evalue": "pop expected at least 1 argument, got 0",
     "output_type": "error",
     "traceback": [
      "\u001b[0;31m---------------------------------------------------------------------------\u001b[0m",
      "\u001b[0;31mTypeError\u001b[0m                                 Traceback (most recent call last)",
      "Cell \u001b[0;32mIn[60], line 1\u001b[0m\n\u001b[0;32m----> 1\u001b[0m \u001b[43md6\u001b[49m\u001b[38;5;241;43m.\u001b[39;49m\u001b[43mpop\u001b[49m\u001b[43m(\u001b[49m\u001b[43m)\u001b[49m\n",
      "\u001b[0;31mTypeError\u001b[0m: pop expected at least 1 argument, got 0"
     ]
    }
   ],
   "source": [
    "d6.pop()"
   ]
  },
  {
   "cell_type": "code",
   "execution_count": 76,
   "id": "31695c54-1607-4965-8177-134c4f8abbc7",
   "metadata": {},
   "outputs": [
    {
     "name": "stdin",
     "output_type": "stream",
     "text": [
      "enter your marks 76\n"
     ]
    },
    {
     "name": "stdout",
     "output_type": "stream",
     "text": [
      "you will be part of A1 Batch\n"
     ]
    }
   ],
   "source": [
    "marks= int(input(\"enter your marks\"))\n",
    "if marks >=80:\n",
    "    print(\"you will be a part of A0 Batch\")\n",
    "elif marks>=60 and marks<= 80:\n",
    "    print(\"you will be part of A1 Batch\")\n",
    "elif marks>=40 and marks<=60:\n",
    "    print(\"you will be part of A2 Batch\")\n",
    "else:\n",
    "    print(\"you will be part of A3 Batch\")"
   ]
  },
  {
   "cell_type": "code",
   "execution_count": 77,
   "id": "33925499-c0fc-4117-8b8f-28b181293862",
   "metadata": {},
   "outputs": [
    {
     "data": {
      "text/plain": [
       "False"
      ]
     },
     "execution_count": 77,
     "metadata": {},
     "output_type": "execute_result"
    }
   ],
   "source": [
    "10>=60 and 10<=60"
   ]
  },
  {
   "cell_type": "code",
   "execution_count": 69,
   "id": "dcdbc660-9573-4968-baa8-12fd4a64e2b2",
   "metadata": {},
   "outputs": [
    {
     "data": {
      "text/plain": [
       "True"
      ]
     },
     "execution_count": 69,
     "metadata": {},
     "output_type": "execute_result"
    }
   ],
   "source": [
    "65>=60 or 65>=80"
   ]
  },
  {
   "cell_type": "code",
   "execution_count": 89,
   "id": "4e961df2-965e-48b3-b6b9-eb7a550ac31b",
   "metadata": {},
   "outputs": [
    {
     "name": "stdin",
     "output_type": "stream",
     "text": [
      "enter price: 4000\n"
     ]
    },
    {
     "name": "stdout",
     "output_type": "stream",
     "text": [
      "i will not purchase\n"
     ]
    }
   ],
   "source": [
    "price=int(input(\"enter price:\"))\n",
    "if price>1000:\n",
    "    print(\"i will not purchase\")\n",
    "    if price>5000:\n",
    "        print(\"this is too much get out from here!\")\n",
    "    elif price<2000:\n",
    "            print(\"it is ok! you can think here!\")\n",
    "else:\n",
    "        print(\"i will purchase\")"
   ]
  },
  {
   "cell_type": "code",
   "execution_count": 90,
   "id": "0dc5676c-e326-4ab2-8391-2da23f502b7a",
   "metadata": {},
   "outputs": [],
   "source": [
    "l=[1,2,3,4,5,6,7,8]"
   ]
  },
  {
   "cell_type": "code",
   "execution_count": 91,
   "id": "769cc76b-1115-4883-a96b-4f8a80b0d36c",
   "metadata": {},
   "outputs": [
    {
     "data": {
      "text/plain": [
       "[1, 2, 3, 4, 5, 6, 7, 8]"
      ]
     },
     "execution_count": 91,
     "metadata": {},
     "output_type": "execute_result"
    }
   ],
   "source": [
    "l"
   ]
  },
  {
   "cell_type": "code",
   "execution_count": 92,
   "id": "c0ad828a-2ca1-4dbd-bf53-01c703f06462",
   "metadata": {},
   "outputs": [
    {
     "data": {
      "text/plain": [
       "1"
      ]
     },
     "execution_count": 92,
     "metadata": {},
     "output_type": "execute_result"
    }
   ],
   "source": [
    "l[0]"
   ]
  },
  {
   "cell_type": "code",
   "execution_count": 94,
   "id": "7250010d-77ba-40f9-9be4-346a7e67af03",
   "metadata": {},
   "outputs": [],
   "source": [
    "l[0]=l[0]+1"
   ]
  },
  {
   "cell_type": "code",
   "execution_count": 95,
   "id": "9bb94939-be2f-4ad7-80d3-880a67e3373a",
   "metadata": {},
   "outputs": [
    {
     "data": {
      "text/plain": [
       "[2, 2, 3, 4, 5, 6, 7, 8]"
      ]
     },
     "execution_count": 95,
     "metadata": {},
     "output_type": "execute_result"
    }
   ],
   "source": [
    "l"
   ]
  },
  {
   "cell_type": "code",
   "execution_count": 96,
   "id": "61a8df05-9915-4978-986e-1956c92c2e84",
   "metadata": {},
   "outputs": [],
   "source": [
    "l[0]=1"
   ]
  },
  {
   "cell_type": "code",
   "execution_count": 97,
   "id": "223aff3c-5180-4d64-b326-e143560613f2",
   "metadata": {},
   "outputs": [
    {
     "data": {
      "text/plain": [
       "[1, 2, 3, 4, 5, 6, 7, 8]"
      ]
     },
     "execution_count": 97,
     "metadata": {},
     "output_type": "execute_result"
    }
   ],
   "source": [
    "l"
   ]
  },
  {
   "cell_type": "code",
   "execution_count": 98,
   "id": "c2e1a6ef-11fd-45dd-80b8-ee0d21a1ba67",
   "metadata": {},
   "outputs": [
    {
     "ename": "SyntaxError",
     "evalue": "invalid syntax (3277902266.py, line 1)",
     "output_type": "error",
     "traceback": [
      "\u001b[0;36m  Cell \u001b[0;32mIn[98], line 1\u001b[0;36m\u001b[0m\n\u001b[0;31m    l[]=l[]+1\u001b[0m\n\u001b[0m      ^\u001b[0m\n\u001b[0;31mSyntaxError\u001b[0m\u001b[0;31m:\u001b[0m invalid syntax\n"
     ]
    }
   ],
   "source": [
    "l[]=l[]+1"
   ]
  },
  {
   "cell_type": "code",
   "execution_count": 105,
   "id": "23dd81d1-2394-4a0e-882c-3d28d1c42653",
   "metadata": {},
   "outputs": [
    {
     "data": {
      "text/plain": [
       "[2, 3, 4, 5, 6, 7, 8, 9]"
      ]
     },
     "execution_count": 106,
     "metadata": {},
     "output_type": "execute_result"
    }
   ],
   "source": [
    "l1=[]\n",
    "for i in l:\n",
    "    #print(i+1)\n",
    "    l1.append(i+1)\n",
    "l1"
   ]
  },
  {
   "cell_type": "code",
   "execution_count": 107,
   "id": "293c8ed1-b106-4f23-a641-8baceeb84db9",
   "metadata": {},
   "outputs": [],
   "source": [
    "l=[\"sudh\",\"kala\",\"saka\",\"raka\"]"
   ]
  },
  {
   "cell_type": "code",
   "execution_count": 108,
   "id": "acf8ae69-42e0-4295-b7ef-cc80598481ca",
   "metadata": {},
   "outputs": [
    {
     "data": {
      "text/plain": [
       "['sudh', 'kala', 'saka', 'raka']"
      ]
     },
     "execution_count": 108,
     "metadata": {},
     "output_type": "execute_result"
    }
   ],
   "source": [
    "l"
   ]
  },
  {
   "cell_type": "code",
   "execution_count": 109,
   "id": "c6abce92-77ed-415e-9d18-a2f783d7a0cc",
   "metadata": {},
   "outputs": [
    {
     "name": "stdout",
     "output_type": "stream",
     "text": [
      "sudh\n",
      "kala\n",
      "saka\n",
      "raka\n"
     ]
    }
   ],
   "source": [
    "for i in l:\n",
    "    print(i)"
   ]
  },
  {
   "cell_type": "code",
   "execution_count": 114,
   "id": "7b840ceb-4d32-4fa2-9690-063a880320b3",
   "metadata": {},
   "outputs": [
    {
     "name": "stdout",
     "output_type": "stream",
     "text": [
      "SUDH\n",
      "KALA\n",
      "SAKA\n",
      "RAKA\n"
     ]
    }
   ],
   "source": [
    "l1=[]\n",
    "for i in l:\n",
    "    print(i.upper())\n",
    "    l1.append(i.upper())"
   ]
  },
  {
   "cell_type": "code",
   "execution_count": 113,
   "id": "0f4c7ced-08fa-4f39-8730-bfd895f263de",
   "metadata": {},
   "outputs": [
    {
     "data": {
      "text/plain": [
       "['SUDH', 'KALA', 'SAKA', 'RAKA']"
      ]
     },
     "execution_count": 113,
     "metadata": {},
     "output_type": "execute_result"
    }
   ],
   "source": [
    "l1"
   ]
  },
  {
   "cell_type": "code",
   "execution_count": 115,
   "id": "31d6d83d-ba31-4dfc-b4e0-2e245abd6531",
   "metadata": {},
   "outputs": [],
   "source": [
    "l=[1,2,3,4,5,6,7,\"sudh\",\"kumar\",\"abc\",12.21]"
   ]
  },
  {
   "cell_type": "code",
   "execution_count": 116,
   "id": "6e72be45-1263-41b3-a4c6-fa4da8384f8a",
   "metadata": {},
   "outputs": [
    {
     "data": {
      "text/plain": [
       "[1, 2, 3, 4, 5, 6, 7, 'sudh', 'kumar', 'abc', 12.21]"
      ]
     },
     "execution_count": 116,
     "metadata": {},
     "output_type": "execute_result"
    }
   ],
   "source": [
    "l"
   ]
  },
  {
   "cell_type": "code",
   "execution_count": 119,
   "id": "91bd35b6-ae37-49d8-a0d7-63ffb5bf2663",
   "metadata": {},
   "outputs": [],
   "source": [
    "l1_numeric=[]\n",
    "l2_string=[]\n",
    "for i in l:\n",
    "    if type(i)==int or type(i)==float:    \n",
    "        l1_numeric.append(i)\n",
    "    else:\n",
    "        l2_string.append(i)\n",
    "\n",
    "    "
   ]
  },
  {
   "cell_type": "code",
   "execution_count": 120,
   "id": "96fe3414-23ff-4632-9b77-2b6607541189",
   "metadata": {},
   "outputs": [
    {
     "data": {
      "text/plain": [
       "[1, 2, 3, 4, 5, 6, 7, 12.21]"
      ]
     },
     "execution_count": 120,
     "metadata": {},
     "output_type": "execute_result"
    }
   ],
   "source": [
    "l1_numeric"
   ]
  },
  {
   "cell_type": "code",
   "execution_count": 121,
   "id": "e035e707-29a0-4118-a9d4-3580a2164b22",
   "metadata": {},
   "outputs": [
    {
     "data": {
      "text/plain": [
       "['sudh', 'kumar', 'abc']"
      ]
     },
     "execution_count": 121,
     "metadata": {},
     "output_type": "execute_result"
    }
   ],
   "source": [
    "l2_string"
   ]
  },
  {
   "cell_type": "code",
   "execution_count": null,
   "id": "7f73581b-d29a-483f-9550-c756e8042f63",
   "metadata": {},
   "outputs": [],
   "source": []
  }
 ],
 "metadata": {
  "kernelspec": {
   "display_name": "Python 3 (ipykernel)",
   "language": "python",
   "name": "python3"
  },
  "language_info": {
   "codemirror_mode": {
    "name": "ipython",
    "version": 3
   },
   "file_extension": ".py",
   "mimetype": "text/x-python",
   "name": "python",
   "nbconvert_exporter": "python",
   "pygments_lexer": "ipython3",
   "version": "3.10.8"
  }
 },
 "nbformat": 4,
 "nbformat_minor": 5
}
